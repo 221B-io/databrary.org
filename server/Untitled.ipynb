{
 "cells": [
  {
   "cell_type": "code",
   "execution_count": 2,
   "metadata": {},
   "outputs": [
    {
     "ename": "Error",
     "evalue": "TS6059: File 'cell.ts' is not under 'rootDir' '/mnt/c/Users/jspie/Code/Github/221B-io/databrary.org/server/src'. 'rootDir' is expected to contain all source files.\n\nTS2318: Cannot find global type 'Array'.\n\nTS2318: Cannot find global type 'Boolean'.\n\nTS2318: Cannot find global type 'Function'.\n\nTS2318: Cannot find global type 'IArguments'.\n\nTS2318: Cannot find global type 'Number'.\n\nTS2318: Cannot find global type 'Object'.\n\nTS2318: Cannot find global type 'RegExp'.\n\nTS2318: Cannot find global type 'String'.",
     "output_type": "error",
     "traceback": [
      "Error: TS6059: File 'cell.ts' is not under 'rootDir' '/mnt/c/Users/jspie/Code/Github/221B-io/databrary.org/server/src'. 'rootDir' is expected to contain all source files.",
      "",
      "TS2318: Cannot find global type 'Array'.",
      "",
      "TS2318: Cannot find global type 'Boolean'.",
      "",
      "TS2318: Cannot find global type 'Function'.",
      "",
      "TS2318: Cannot find global type 'IArguments'.",
      "",
      "TS2318: Cannot find global type 'Number'.",
      "",
      "TS2318: Cannot find global type 'Object'.",
      "",
      "TS2318: Cannot find global type 'RegExp'.",
      "",
      "TS2318: Cannot find global type 'String'.",
      "    at execTranspile (/home/jspies/.nvm/versions/node/v12.1.0/lib/node_modules/itypescript/lib/kernel.js:203:27)",
      "    at Session.transpiler [as transpile] (/home/jspies/.nvm/versions/node/v12.1.0/lib/node_modules/itypescript/lib/kernel.js:263:37)",
      "    at Session._runNow (/home/jspies/.nvm/versions/node/v12.1.0/lib/node_modules/itypescript/node_modules/nel/lib/nel.js:796:39)",
      "    at Session._run (/home/jspies/.nvm/versions/node/v12.1.0/lib/node_modules/itypescript/node_modules/nel/lib/nel.js:766:14)",
      "    at Session.execute (/home/jspies/.nvm/versions/node/v12.1.0/lib/node_modules/itypescript/node_modules/nel/lib/nel.js:890:10)",
      "    at Kernel.execute_request (/home/jspies/.nvm/versions/node/v12.1.0/lib/node_modules/itypescript/node_modules/jp-kernel/lib/handlers_v5.js:116:18)",
      "    at Kernel.onShellMessage (/home/jspies/.nvm/versions/node/v12.1.0/lib/node_modules/itypescript/node_modules/jp-kernel/lib/jp-kernel.js:285:41)",
      "    at Socket.<anonymous> (/home/jspies/.nvm/versions/node/v12.1.0/lib/node_modules/itypescript/node_modules/jmp/index.js:350:17)",
      "    at Socket.emit (events.js:196:13)",
      "    at Socket._emitMessage (/home/jspies/.nvm/versions/node/v12.1.0/lib/node_modules/itypescript/node_modules/zeromq/lib/index.js:640:15)"
     ]
    }
   ],
   "source": [
    "let msg = ['hi', 'world']"
   ]
  },
  {
   "cell_type": "code",
   "execution_count": 3,
   "metadata": {},
   "outputs": [
    {
     "ename": "Error",
     "evalue": "TS6059: File 'cell.ts' is not under 'rootDir' '/mnt/c/Users/jspie/Code/Github/221B-io/databrary.org/server/src'. 'rootDir' is expected to contain all source files.\n\nTS2318: Cannot find global type 'Array'.\n\nTS2318: Cannot find global type 'Boolean'.\n\nTS2318: Cannot find global type 'Function'.\n\nTS2318: Cannot find global type 'IArguments'.\n\nTS2318: Cannot find global type 'Number'.\n\nTS2318: Cannot find global type 'Object'.\n\nTS2318: Cannot find global type 'RegExp'.\n\nTS2318: Cannot find global type 'String'.\n\nLine 1, Character 1\nmsg\n^\nTS2304: Cannot find name 'msg'.",
     "output_type": "error",
     "traceback": [
      "Error: TS6059: File 'cell.ts' is not under 'rootDir' '/mnt/c/Users/jspie/Code/Github/221B-io/databrary.org/server/src'. 'rootDir' is expected to contain all source files.",
      "",
      "TS2318: Cannot find global type 'Array'.",
      "",
      "TS2318: Cannot find global type 'Boolean'.",
      "",
      "TS2318: Cannot find global type 'Function'.",
      "",
      "TS2318: Cannot find global type 'IArguments'.",
      "",
      "TS2318: Cannot find global type 'Number'.",
      "",
      "TS2318: Cannot find global type 'Object'.",
      "",
      "TS2318: Cannot find global type 'RegExp'.",
      "",
      "TS2318: Cannot find global type 'String'.",
      "",
      "Line 1, Character 1",
      "msg",
      "^",
      "TS2304: Cannot find name 'msg'.",
      "    at execTranspile (/home/jspies/.nvm/versions/node/v12.1.0/lib/node_modules/itypescript/lib/kernel.js:203:27)",
      "    at Session.transpiler [as transpile] (/home/jspies/.nvm/versions/node/v12.1.0/lib/node_modules/itypescript/lib/kernel.js:263:37)",
      "    at Session._runNow (/home/jspies/.nvm/versions/node/v12.1.0/lib/node_modules/itypescript/node_modules/nel/lib/nel.js:796:39)",
      "    at Session._run (/home/jspies/.nvm/versions/node/v12.1.0/lib/node_modules/itypescript/node_modules/nel/lib/nel.js:766:14)",
      "    at Session.execute (/home/jspies/.nvm/versions/node/v12.1.0/lib/node_modules/itypescript/node_modules/nel/lib/nel.js:890:10)",
      "    at Kernel.execute_request (/home/jspies/.nvm/versions/node/v12.1.0/lib/node_modules/itypescript/node_modules/jp-kernel/lib/handlers_v5.js:116:18)",
      "    at Kernel.onShellMessage (/home/jspies/.nvm/versions/node/v12.1.0/lib/node_modules/itypescript/node_modules/jp-kernel/lib/jp-kernel.js:285:41)",
      "    at Socket.<anonymous> (/home/jspies/.nvm/versions/node/v12.1.0/lib/node_modules/itypescript/node_modules/jmp/index.js:350:17)",
      "    at Socket.emit (events.js:196:13)",
      "    at Socket._emitMessage (/home/jspies/.nvm/versions/node/v12.1.0/lib/node_modules/itypescript/node_modules/zeromq/lib/index.js:640:15)"
     ]
    }
   ],
   "source": [
    "msg"
   ]
  }
 ],
 "metadata": {
  "kernelspec": {
   "display_name": "Typescript 3.5",
   "language": "typescript",
   "name": "typescript"
  },
  "language_info": {
   "file_extension": ".ts",
   "mimetype": "application/x-typescript",
   "name": "typescript",
   "version": "3.5.3"
  }
 },
 "nbformat": 4,
 "nbformat_minor": 2
}
